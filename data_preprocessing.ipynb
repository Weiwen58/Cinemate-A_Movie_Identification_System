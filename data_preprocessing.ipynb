{
 "cells": [
  {
   "cell_type": "code",
   "execution_count": null,
   "metadata": {},
   "outputs": [],
   "source": [
    "import pandas as pd\n",
    "import numpy as np\n",
    "import ast"
   ]
  },
  {
   "cell_type": "code",
   "execution_count": null,
   "metadata": {},
   "outputs": [],
   "source": [
    "df = pd.read_csv(\"./data/movies_metadata.csv\")\n",
    "keywords_df = pd.read_csv(\"./data/keywords.csv\")\n",
    "credits_df = pd.read_csv(\"./data/credits.csv\")"
   ]
  },
  {
   "cell_type": "code",
   "execution_count": null,
   "metadata": {},
   "outputs": [],
   "source": [
    "del df[\"homepage\"]\n",
    "del df[\"video\"]\n",
    "df = df.drop_duplicates(subset=[\"id\"], keep=\"first\")\n",
    "df = df.drop([35587, 19730, 29503, 19729, 29502, 35586]).reset_index(drop=True)\n",
    "df = df.rename(columns={\"original_language\": \"language\", \"release_date\": \"releaseDate\", \n",
    "                        \"adult\": \"isAdult\", \"runtime\": \"runtimeMinutes\", \n",
    "                        \"vote_average\": \"averageRating\", \"vote_count\": \"numVotes\"})\n",
    "df[\"isAdult\"] = pd.factorize(df[\"isAdult\"])[0]\n",
    "df[\"id\"] = df[\"id\"].astype(int)"
   ]
  },
  {
   "cell_type": "code",
   "execution_count": null,
   "metadata": {},
   "outputs": [],
   "source": [
    "keywords_df = keywords_df.drop_duplicates(subset=[\"id\"], keep=\"first\")\n",
    "df = df.merge(keywords_df, how='left', on='id')"
   ]
  },
  {
   "cell_type": "code",
   "execution_count": null,
   "metadata": {},
   "outputs": [],
   "source": [
    "credits_df = credits_df.drop_duplicates(subset=[\"id\"], keep=\"first\")\n",
    "df = df.merge(credits_df, how='left', on='id')"
   ]
  },
  {
   "cell_type": "code",
   "execution_count": null,
   "metadata": {},
   "outputs": [],
   "source": [
    "df.info()"
   ]
  },
  {
   "cell_type": "code",
   "execution_count": null,
   "metadata": {},
   "outputs": [],
   "source": [
    "# df.to_csv(\"./data/new_movies_metadata.csv\", index=False)"
   ]
  },
  {
   "cell_type": "code",
   "execution_count": null,
   "metadata": {},
   "outputs": [],
   "source": [
    "basics = pd.read_csv(\"./title.basics.tsv/data.tsv\", sep=\"\\t\", header=0)\n",
    "basics = basics.drop_duplicates(subset=[\"tconst\"], keep=\"first\")\n",
    "basics = basics[basics[\"tconst\"].isin(df[\"imdb_id\"].dropna())]\n",
    "start_year = basics.set_index(\"tconst\")[\"startYear\"]\n",
    "new_basics = pd.concat([df.dropna(subset=[\"imdb_id\"]).set_index(\"imdb_id\"), start_year], axis=1)\n",
    "new_basics = pd.concat([new_basics.reset_index(names=[\"imdb_id\"]), df[df[\"imdb_id\"].isna()]])"
   ]
  },
  {
   "cell_type": "code",
   "execution_count": null,
   "metadata": {},
   "outputs": [],
   "source": [
    "# new_basics.to_csv(\"./new_basics.csv\", index=False)"
   ]
  },
  {
   "cell_type": "code",
   "execution_count": 1,
   "metadata": {},
   "outputs": [],
   "source": [
    "import pandas as pd\n",
    "import numpy as np\n",
    "import ast"
   ]
  },
  {
   "cell_type": "code",
   "execution_count": 2,
   "metadata": {},
   "outputs": [],
   "source": [
    "df = pd.read_csv(\"./data/new_movies_metadata.csv\")\n",
    "dic_columns = [\"genres\", \"production_companies\", \"production_countries\", \"spoken_languages\",\n",
    "               \"keywords\", \"cast\", \"crew\"]\n",
    "for c in dic_columns:\n",
    "    df[c] = df[c].apply(lambda x: ast.literal_eval(x) if pd.notnull(x) and x != '[]' else [])"
   ]
  },
  {
   "cell_type": "code",
   "execution_count": 11,
   "metadata": {},
   "outputs": [],
   "source": [
    "unique_casts = set()\n",
    "unique_actors = set()\n",
    "for casts_list in df[\"cast\"]:\n",
    "  for cast in casts_list:\n",
    "      unique_casts.add((cast.get(\"cast_id\"), cast.get(\"character\"), cast.get(\"credit_id\"), cast.get(\"order\")))\n",
    "      unique_actors.add((cast.get(\"id\"), cast.get(\"name\"), cast.get(\"gender\")))"
   ]
  },
  {
   "cell_type": "code",
   "execution_count": 18,
   "metadata": {},
   "outputs": [],
   "source": [
    "unique_crews = set()\n",
    "for crews_list in df[\"crew\"]:\n",
    "  for crew in crews_list:\n",
    "      unique_crews.add((crew.get(\"id\"), crew.get(\"job\"), crew.get(\"department\"), crew.get(\"credit_id\"), crew.get(\"gender\"), crew.get(\"name\")))"
   ]
  }
 ],
 "metadata": {
  "kernelspec": {
   "display_name": "base",
   "language": "python",
   "name": "python3"
  },
  "language_info": {
   "codemirror_mode": {
    "name": "ipython",
    "version": 3
   },
   "file_extension": ".py",
   "mimetype": "text/x-python",
   "name": "python",
   "nbconvert_exporter": "python",
   "pygments_lexer": "ipython3",
   "version": "3.9.17"
  }
 },
 "nbformat": 4,
 "nbformat_minor": 2
}
