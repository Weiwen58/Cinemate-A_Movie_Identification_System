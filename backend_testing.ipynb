{
 "cells": [
  {
   "cell_type": "code",
   "execution_count": 698,
   "metadata": {},
   "outputs": [],
   "source": [
    "import mysql.connector\n",
    "from sqlalchemy import create_engine\n",
    "import pickle\n",
    "from sklearn.preprocessing import normalize\n",
    "from sklearn.metrics.pairwise import cosine_similarity\n",
    "import string_cleaning\n",
    "from collections import defaultdict\n",
    "import re\n",
    "\n",
    "mydb = mysql.connector.connect(\n",
    "  host=\"localhost\",\n",
    "  user=\"root\",\n",
    "  password=\"password\",\n",
    "  database=\"movies_metadata\"\n",
    ")\n",
    "mycursor = mydb.cursor()\n",
    "query=\"\"\n"
   ]
  },
  {
   "cell_type": "code",
   "execution_count": 699,
   "metadata": {},
   "outputs": [],
   "source": [
    "final_result = []\n",
    "\n",
    "#Take user input from frontend\n",
    "#test case\n",
    "received_object= {\"actor1\":\"\" , \"character1\": \"\",\"actor2\":\"\" , \"character2\": \"\",\"actor3\":\"\" , \"character3\": \"\",\"actor4\":\"\" , \"character4\": \"\",\"actor5\":\"\" , \"character5\": \"Harry Potter\",\"production_company1\":\"\",\"genre1\":\"\",\"genre2\":\"\",\"genre3\":\"\",\"director1\":\"\",\"year\":\"\",\"overview\":\"\"}\n"
   ]
  },
  {
   "cell_type": "code",
   "execution_count": 700,
   "metadata": {},
   "outputs": [],
   "source": [
    "for i in range (1,6):\n",
    "    actor_val= received_object.get(f\"actor{i}\")\n",
    "    char_val= received_object.get(f\"character{i}\")\n",
    "    # if (i == 1 and query != '') or (i > 1 and i <= 6-1): \n",
    "    #     query += \"\\nINTERSECT\\n\"\n",
    "    if(actor_val != '' and char_val==''): # 1st case\n",
    "        if (query != ''):\n",
    "            query += \"\\nINTERSECT\\n\"\n",
    "        query += f\"SELECT M.Id, M.title FROM movie M, has_cast C, actors A WHERE M.id = C.movieId AND C.actorId = A.id AND A.name = '{actor_val}'\"\n",
    "    elif(actor_val == '' and char_val!=''): # 2nd case\n",
    "        if (query != ''):\n",
    "            query += \"\\nINTERSECT\\n\"\n",
    "        query += f\"SELECT M.Id, M.title FROM movie M, has_cast C WHERE M.id = C.movieId AND (C.character LIKE '%{char_val}%' OR C.character Like '{char_val}%')\"\n",
    "    elif(actor_val != '' and char_val !=''): # 3rd case\n",
    "        if (query != ''):\n",
    "            query += \"\\nINTERSECT\\n\"\n",
    "        query += f\"SELECT M.Id, M.title FROM movie M, has_cast C, actors A WHERE M.id = C.movieId AND C.actorId = A.id AND A.name = '{actor_val}' AND (C.character LIKE '%{char_val}%' OR C.character Like '{char_val}%')\"\n"
   ]
  },
  {
   "cell_type": "code",
   "execution_count": 701,
   "metadata": {},
   "outputs": [],
   "source": [
    "# production company\n",
    "pc_val=received_object.get(\"production_company1\")\n",
    "if(pc_val != ''):\n",
    "    if (query != ''):\n",
    "            query += \"\\nINTERSECT\\n\"\n",
    "    query += f\"SELECT M.Id, M.title FROM productionCompanies PC, movie M, produce P WHERE P.movieId = M.id AND P.pcId = PC.id AND PC.name = '{pc_val}'\""
   ]
  },
  {
   "cell_type": "code",
   "execution_count": 702,
   "metadata": {},
   "outputs": [],
   "source": [
    "# Genres\n",
    "for i in range(1,4):\n",
    "    genre_val= received_object.get(f\"genre{i}\")\n",
    "    if(genre_val != ''):\n",
    "        if (query != ''):\n",
    "            query += \"\\nINTERSECT\\n\"\n",
    "        query += f\"SELECT M.Id, M.title FROM movie M, movie_genres MG, genres G WHERE M.id = MG.movieId AND MG.genreId = G.id AND G.name = '{genre_val}'\""
   ]
  },
  {
   "cell_type": "code",
   "execution_count": 703,
   "metadata": {},
   "outputs": [],
   "source": [
    "# Director\n",
    "dir_val= received_object.get(\"director1\")\n",
    "if(dir_val != ''):\n",
    "    if (query != ''):\n",
    "            query += \"\\nINTERSECT\\n\"\n",
    "    query+=f\"SELECT M.Id, M.title FROM movie M, directs MD, director D WHERE M.id = MD.movieId AND MD.directorId = D.id AND D.name= {dir_val}\""
   ]
  },
  {
   "cell_type": "code",
   "execution_count": 704,
   "metadata": {},
   "outputs": [],
   "source": [
    "# Time of Watch\n",
    "#format in sql -> YYYY-MM-DD\n",
    "# from datetime import datetime (added at the start)\n",
    "# import locale (added at the start)\n",
    "time= received_object.get(\"year\")\n",
    "if(time != ''):\n",
    "    if (query != ''):\n",
    "            query += \"\\nINTERSECT\\n\"\n",
    "    query+=f\"SELECT M.Id, M.title FROM movie M WHERE YEAR(M.releaseDate) <= {time}\""
   ]
  },
  {
   "cell_type": "code",
   "execution_count": 705,
   "metadata": {},
   "outputs": [
    {
     "name": "stdout",
     "output_type": "stream",
     "text": [
      "SELECT M.Id, M.title FROM movie M, has_cast C WHERE M.id = C.movieId AND (C.character LIKE '%Harry Potter%' OR C.character Like 'Harry Potter%')\n"
     ]
    }
   ],
   "source": [
    "\n",
    "filtered_result = []\n",
    "print(query)\n",
    "if query != '':\n",
    "    mycursor.execute(query) #execute the query\n",
    "    filtered_result = mycursor.fetchall()\n",
    "final_result = [set(title[1] for title in filtered_result)]"
   ]
  },
  {
   "cell_type": "code",
   "execution_count": 706,
   "metadata": {},
   "outputs": [],
   "source": [
    "titles = []\n",
    "user_query = received_object.get(\"overview\")#overview\n",
    "user_query = user_query.lower()\n",
    "if user_query != '':\n",
    "    if filtered_result == []:\n",
    "        mycursor.execute(\"SELECT M.id From Movie M\")\n",
    "        filtered_movies_ids = [i[0] for i in mycursor.fetchall()]\n",
    "    else:  \n",
    "        filtered_movies_ids = [i[0] for i in filtered_result]#ids of the movies resulted from the above filtering\n",
    "    \n",
    "    #Keywords\n",
    "    ids_str = ', '.join(map(str, filtered_movies_ids))\n",
    "    #list of keywords for each of the filtered movies\n",
    "    query_kw = f\"SELECT M.id, K.name FROM movie_keywords MK, movie M, keywords K WHERE M.id = MK.movieId AND MK.keywordId = K.id AND M.id IN ({ids_str})\"\n",
    "    mycursor.execute(query_kw)\n",
    "    list_id_kw = mycursor.fetchall()#list of tuples :(id,kw)\n",
    "    id_kw_dict = defaultdict(list)#dict that contains id:[kws]\n",
    "    #filled the dict\n",
    "    for i in list_id_kw:\n",
    "        id_kw_dict[i[0]].append(i[1])\n",
    "        \n",
    "    #check matches between the query and the keyword list\n",
    "    movie_kw_match_dict = defaultdict(int)\n",
    "    for k,v in id_kw_dict.items():\n",
    "        for kw in v:\n",
    "        # Escape special characters and use word boundaries (\\b) for whole word matching\n",
    "            pattern = re.compile(r'\\b{}\\b'.format(re.escape(kw)))\n",
    "        # Use findall to find all matches in the user query\n",
    "            matches = pattern.findall(user_query)\n",
    "            if matches:\n",
    "                movie_kw_match_dict[k] += len(matches)\n",
    "    \n",
    "    #if the max number of keyword hits is greater than 1\n",
    "    max_num_of_hits = 0\n",
    "    if len(movie_kw_match_dict) > 0:\n",
    "        _,max_num_of_hits = max(movie_kw_match_dict.items(), key=lambda x: x[1])\n",
    "        \n",
    "    if max_num_of_hits > 1:\n",
    "        list_of_matches = [x for x in sorted(movie_kw_match_dict, key=movie_kw_match_dict.get, reverse=True) if x >= max_num_of_hits//2]#all the movie ids with more than half the max keyword hits\n",
    "    else:\n",
    "        list_of_matches = filtered_movies_ids #There is at most one hit which means we will use the overview \n",
    "    \n",
    "    with open('movie_ids.pkl', 'rb') as movie_ids_file:\n",
    "        all_movie_ids = pickle.load(movie_ids_file)\n",
    "\n",
    "    # Load TF-IDF matrix and vectorizer\n",
    "    with open('tfidf_matrix.pkl', 'rb') as matrix_file:\n",
    "        tfidf_matrix = pickle.load(matrix_file)\n",
    "\n",
    "    with open('tfidf_vectorizer.pkl', 'rb') as vectorizer_file:\n",
    "        tfidf_vectorizer = pickle.load(vectorizer_file)\n",
    "\n",
    "\n",
    "    clean_usr_query = string_cleaning.clean_string_ret_string(user_query)\n",
    "    # Transform the query to a TF-IDF vector\n",
    "    query_vector = tfidf_vectorizer.transform([clean_usr_query])\n",
    "\n",
    "    #new code\n",
    "\n",
    "    filtered_indices = [i for i, movie_id in enumerate(all_movie_ids) if movie_id in filtered_movies_ids]\n",
    "    filtered_tfidf_matrix = tfidf_matrix[filtered_indices, :]\n",
    "    filtered_movie_ids = [all_movie_ids[i] for i in filtered_indices]\n",
    "\n",
    "    # Normalize the filtered TF-IDF matrix\n",
    "    tfidf_matrix_normalized_filtered = normalize(filtered_tfidf_matrix, norm='l2', axis=1)\n",
    "    # Normalize the filtered TF-IDF vector\n",
    "    query_vector_normalized= normalize(query_vector, norm='l2', axis=1)\n",
    "    cosine_similarities = cosine_similarity(query_vector_normalized, tfidf_matrix_normalized_filtered)\n",
    "    ####\n",
    "\n",
    "    # Get the indices of movies sorted by their similarity to the query\n",
    "    similar_movies_indices = cosine_similarities.argsort()[0][::-1]\n",
    "\n",
    "    # Filter movies based on the threshold\n",
    "    min_similarity_threshold = 0.1\n",
    "    #Initialize a maximum similarity threshold\n",
    "    max_similarity_threshold = 0.99\n",
    "    similar_movies_indices = [idx for idx in similar_movies_indices if cosine_similarities[0][idx] > min_similarity_threshold] # at least 10% similar\n",
    "\n",
    "    similar_movie_ids = [filtered_movie_ids[idx] for idx in similar_movies_indices if cosine_similarities[0][idx] >= max_similarity_threshold]\n",
    "    while len(similar_movie_ids) < 6 and max_similarity_threshold >= min_similarity_threshold:\n",
    "        similar_movie_ids = [filtered_movie_ids[idx] for idx in similar_movies_indices if cosine_similarities[0][idx] >= max_similarity_threshold]\n",
    "        max_similarity_threshold -= 0.01\n",
    "    \n",
    "\n",
    "\n",
    "    #get the movie ids with highest keyword hits and similarity\n",
    "    prioritized_ids = [m_id for m_id in (set(similar_movie_ids) & set(list_of_matches))] #set intersection\n",
    "\n",
    "    \n",
    "    if(len(prioritized_ids) == 0):#no intersection between hits and \n",
    "        prioritized_ids = [m_id for m_id in list_of_matches if movie_kw_match_dict[m_id] == max_num_of_hits]\n",
    "        if max_num_of_hits < 2:\n",
    "            prioritized_ids.extend(similar_movie_ids)\n",
    "        \n",
    "    query = \"SELECT title FROM movie WHERE id = %s\"\n",
    "\n",
    "    for movie_id in prioritized_ids:\n",
    "        mycursor.execute(query, (movie_id, ))\n",
    "        result = mycursor.fetchone()\n",
    "        if result:\n",
    "            titles.append(result[0])\n",
    "    final_result = titles\n"
   ]
  },
  {
   "cell_type": "code",
   "execution_count": 707,
   "metadata": {},
   "outputs": [
    {
     "name": "stdout",
     "output_type": "stream",
     "text": [
      "2\n"
     ]
    }
   ],
   "source": [
    "print(max_num_of_hits)"
   ]
  },
  {
   "cell_type": "code",
   "execution_count": 708,
   "metadata": {},
   "outputs": [
    {
     "name": "stdout",
     "output_type": "stream",
     "text": [
      "[{'Harry Potter and the Chamber of Secrets', 'Harry Potter and the Prisoner of Azkaban', 'Harry Potter and the Order of the Phoenix', 'Harry Potter and the Half-Blood Prince', 'Harry Potter and the Goblet of Fire', 'A Very Potter Sequel', \"Harry Potter and the Philosopher's Stone\", 'The Starving Games', 'A Very Potter Musical', 'Harry Potter and the Deathly Hallows: Part 2', 'Troll', 'Harry Potter and the Deathly Hallows: Part 1', 'Epic Movie'}]\n"
     ]
    }
   ],
   "source": [
    "print(final_result)"
   ]
  }
 ],
 "metadata": {
  "kernelspec": {
   "display_name": "Python 3",
   "language": "python",
   "name": "python3"
  },
  "language_info": {
   "codemirror_mode": {
    "name": "ipython",
    "version": 3
   },
   "file_extension": ".py",
   "mimetype": "text/x-python",
   "name": "python",
   "nbconvert_exporter": "python",
   "pygments_lexer": "ipython3",
   "version": "3.10.0"
  }
 },
 "nbformat": 4,
 "nbformat_minor": 2
}
